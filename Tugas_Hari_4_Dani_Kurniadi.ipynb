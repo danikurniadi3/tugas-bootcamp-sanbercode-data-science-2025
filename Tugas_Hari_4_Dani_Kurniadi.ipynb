{
  "nbformat": 4,
  "nbformat_minor": 0,
  "metadata": {
    "kernelspec": {
      "display_name": "Python 3",
      "language": "python",
      "name": "python3"
    },
    "language_info": {
      "codemirror_mode": {
        "name": "ipython",
        "version": 3
      },
      "file_extension": ".py",
      "mimetype": "text/x-python",
      "name": "python",
      "nbconvert_exporter": "python",
      "pygments_lexer": "ipython3",
      "version": "3.7.7"
    },
    "colab": {
      "provenance": []
    }
  },
  "cells": [
    {
      "cell_type": "markdown",
      "metadata": {
        "id": "a9HYUdCUsrKl"
      },
      "source": [
        "<h2>Soal 1: Comparison Operator</h2>\n",
        "\n",
        "- Berikan contoh comparison dari tipe data string\n",
        "- Berikan contoh comparison dari tipe data boolean\n",
        "- Berikan contoh comparison dari tipe data integer"
      ]
    },
    {
      "cell_type": "code",
      "metadata": {
        "id": "fUFkFOt0afUL",
        "colab": {
          "base_uri": "https://localhost:8080/"
        },
        "outputId": "fb6da919-ae3f-44d7-bb62-85ecd3470af4"
      },
      "source": [
        "#string\n",
        "\n",
        "a = 'motor'\n",
        "if a == \"mobil\" :\n",
        "  print('sesuai')\n",
        "else:\n",
        "  print('tidak sesuai')\n",
        "\n",
        "#boolean\n",
        "a=True\n",
        "if a == True:\n",
        "  print('betul')\n",
        "else:\n",
        "  print('salah')\n",
        "\n",
        "#integer\n",
        "a = 90\n",
        "if a > 70:\n",
        "  print(\"lulus\")\n"
      ],
      "execution_count": null,
      "outputs": [
        {
          "output_type": "stream",
          "name": "stdout",
          "text": [
            "tidak sesuai\n",
            "betul\n",
            "lulus\n"
          ]
        }
      ]
    },
    {
      "cell_type": "markdown",
      "metadata": {
        "id": "XeywALwwhZn7"
      },
      "source": [
        "\n",
        "\n",
        "---\n",
        "\n",
        "\n",
        "\n",
        "---\n",
        "\n"
      ]
    },
    {
      "cell_type": "markdown",
      "metadata": {
        "id": "IbNoZvVssrK5"
      },
      "source": [
        "<h2>Soal 2: Boolean Comparison</h2>\n",
        "\n",
        "- Berikan contoh gabungan multiple comparison menggunkan Boolean Comparisin 'and'\n",
        "- Berikan contoh gabungan multiple comparison menggunkan Boolean Comparisin 'or'\n",
        "- Berikan contoh gabungan multiple comparison menggunkan Boolean Comparisin 'not'"
      ]
    },
    {
      "cell_type": "code",
      "metadata": {
        "id": "M1mwGoegaiET",
        "colab": {
          "base_uri": "https://localhost:8080/"
        },
        "outputId": "09a529e8-5d0c-49f4-b2ae-5ccf18249203"
      },
      "source": [
        "#and\n",
        "a = 24\n",
        "b = 170\n",
        "if a > 23 and b > 165:\n",
        "  print(\"lulus\")\n",
        "else :\n",
        "  print('tidak lulus')\n",
        "\n",
        "#or\n",
        "mobil = 10\n",
        "motor = 12\n",
        "if mobil >= 10 or motor <= 5:\n",
        "  print(\"untung\")\n",
        "else :\n",
        "  print('rugi')\n",
        "\n",
        "#not\n"
      ],
      "execution_count": null,
      "outputs": [
        {
          "output_type": "stream",
          "name": "stdout",
          "text": [
            "lulus\n",
            "untung\n"
          ]
        }
      ]
    },
    {
      "cell_type": "markdown",
      "metadata": {
        "id": "Y3ejsyvqhciI"
      },
      "source": [
        "\n",
        "\n",
        "---\n",
        "\n",
        "\n",
        "\n",
        "---\n",
        "\n"
      ]
    },
    {
      "cell_type": "markdown",
      "metadata": {
        "id": "Yp_g_sPMsrLH"
      },
      "source": [
        "<h2>Soal 3: If-Else Statement</h2>\n",
        "\n",
        "Lengkapi kode untuk menghasilkan suatu output yang di harapkan\n",
        "\n",
        "- Bualah sebuah if-else statement yang dimana akan mem-print 'High' jika grade adalah 'A' dan price lebih dari 100000, kemudian mem-print 'Medium' jika grade adalah 'A' dan price lebih dari 50000 dan memprint 'low' jika grade adalah 'A' dan price lebih kecil dan sama dengan 50000."
      ]
    },
    {
      "cell_type": "code",
      "metadata": {
        "id": "2PPsaN50c9ew",
        "colab": {
          "base_uri": "https://localhost:8080/"
        },
        "outputId": "eb32d984-03c7-481d-c025-96988bedd5c1"
      },
      "source": [
        "#code here\n",
        "grade = \"A\"\n",
        "price = 3000\n",
        "\n",
        "if grade == \"A\" and price > 100000 :\n",
        "  print('High')\n",
        "elif grade == \"A\" and price > 50000 :\n",
        "  print('medium')\n",
        "elif grade == \"A\" and price < 50000 :\n",
        "  print('low')"
      ],
      "execution_count": 2,
      "outputs": [
        {
          "output_type": "stream",
          "name": "stdout",
          "text": [
            "low\n"
          ]
        }
      ]
    },
    {
      "cell_type": "markdown",
      "metadata": {
        "id": "FkSxKlMNhfzn"
      },
      "source": [
        "\n",
        "\n",
        "---\n",
        "\n",
        "\n",
        "\n",
        "---\n",
        "\n"
      ]
    },
    {
      "cell_type": "markdown",
      "metadata": {
        "id": "IcoJXJT1srLW"
      },
      "source": [
        "<h2>Soal 4: Comparison Operator dengan fungsi</h2>\n",
        "\n",
        "Buatlah sebuah fungsi yang menerima satu argument bertipe data numeric dan menghasilkan sebuah return sebagai berikut :\n",
        "- menghasilkan return 'Aneh' jika nilai dari argument tersebut adalah bilangan ganjil\n",
        "- menghasilkan return 'Tidak Aneh' jika nilai dari argument tersebut adalah bilangan genap dan diantara nilai 2 sampai 5 (2 dan 5 termasuk)\n",
        "- menghasilkan return 'Aneh' jika nilai dari argument tersebut adalah bilangan genap dan diantara nilai 6 sampai 20 (6 dan 20 termasuk)\n",
        "- menghasilkan return 'Tidak Aneh' jika nilai dari argument tersebut adalah bilangan genap dan lebih besari dari 20"
      ]
    },
    {
      "cell_type": "code",
      "metadata": {
        "id": "oGXGd_MhdH9D",
        "colab": {
          "base_uri": "https://localhost:8080/"
        },
        "outputId": "bb2cb654-f0c3-46b9-bbf6-e419204aee44"
      },
      "source": [
        "# Buat fungsi\n",
        "def cek_nilai(nilai):\n",
        "    if nilai % 2 != 0:\n",
        "        return 'Aneh'\n",
        "    elif 2 <= nilai <= 5:\n",
        "        return 'Tidak Aneh'\n",
        "    elif 6 <= nilai <= 20:\n",
        "        return 'Aneh'\n",
        "    elif nilai > 20:\n",
        "        return 'Tidak Aneh'\n",
        "\n",
        "print(cek_nilai(7))\n",
        "print(cek_nilai(2))\n",
        "print(cek_nilai(16))\n",
        "print(cek_nilai(30))\n"
      ],
      "execution_count": 5,
      "outputs": [
        {
          "output_type": "stream",
          "name": "stdout",
          "text": [
            "Aneh\n",
            "Tidak Aneh\n",
            "Aneh\n",
            "Tidak Aneh\n"
          ]
        }
      ]
    },
    {
      "cell_type": "markdown",
      "metadata": {
        "id": "QxKrmLcchhvf"
      },
      "source": [
        "\n",
        "\n",
        "---\n",
        "\n",
        "\n",
        "\n",
        "---\n",
        "\n"
      ]
    },
    {
      "cell_type": "markdown",
      "metadata": {
        "id": "gf0D64xOsrLl"
      },
      "source": [
        "<h2>Soal 5: While Loop dan For Loop</h2>\n",
        "\n",
        "- Apa perbedaan while loop dan for loop?\n",
        "- Berikan contoh sederhana cara menggunakan while loop dan for loop"
      ]
    },
    {
      "cell_type": "markdown",
      "metadata": {
        "id": "cSrE7RbvdXWe"
      },
      "source": [
        "\n",
        "\n",
        "jawaban perbedaan\n",
        "\n",
        "\n",
        "perbedaannya terletak pada  cara kerja dan penggunaannya: while loop digunakan pada kondisi dimana jumlah iterasi tidak diketahui sebelumnya dan bergantung pada kondisi yang terus diperiksa sebelum setiap iterasi. Sebasementara, for loop digunakan saat jumlah iterasi sudah diketahui atau dapat ditentukan sebelumnya, seperti iterasi melalui elemen dalam koleksi (misal dalam contoh di bawah menggunakan range)."
      ]
    },
    {
      "cell_type": "code",
      "metadata": {
        "id": "RSf-gg-rdY35",
        "colab": {
          "base_uri": "https://localhost:8080/"
        },
        "outputId": "68ad887e-85e3-4731-eec2-0f94c54f0a00"
      },
      "source": [
        "# jawaban contoh\n",
        "# Contoh penggunaan while loop untuk mencetak angka 1 sampai 5\n",
        "print('while loop')\n",
        "count = 1\n",
        "while count <= 5:\n",
        "    print(f\"{count}\")\n",
        "    count += 1\n",
        "\n",
        "print ('for loop')\n",
        "# Contoh penggunaan for loop untuk mencetak angka 1 sampai 5\n",
        "for num in range(1, 6):\n",
        "    print(f\"{num}\")\n"
      ],
      "execution_count": 23,
      "outputs": [
        {
          "output_type": "stream",
          "name": "stdout",
          "text": [
            "while loop\n",
            "1\n",
            "2\n",
            "3\n",
            "4\n",
            "5\n",
            "for loop\n",
            "1\n",
            "2\n",
            "3\n",
            "4\n",
            "5\n"
          ]
        }
      ]
    },
    {
      "cell_type": "markdown",
      "metadata": {
        "id": "xJq6aaArhlDN"
      },
      "source": [
        "\n",
        "\n",
        "---\n",
        "\n",
        "\n",
        "\n",
        "---\n",
        "\n"
      ]
    },
    {
      "cell_type": "markdown",
      "metadata": {
        "id": "fZQpBGCgsrLz"
      },
      "source": [
        "<h2>Soal 6: While Loop</h2>\n",
        "    \n",
        "Buatlah sebuah code while loop sebagai berikut :\n",
        "- Buatlah suatu fungsi yang menerima satu input nilai numerik\n",
        "- Dalam fungsi, Buat sebuah while-loop dengan melakukan comparasi terhadap inputan tersebut, dimana looping/iterasi terus berjalan apabila nilai inputan tidak sama dengan 0\n",
        "- Dalam setiap iterasi update nilai variable inputan itu, jika input lebih dari 0, maka kurangi variabel tersebut sebesar 1, selain itu tambahkan 1\n",
        "- print nilai variable input dalam setiap awal iterasi"
      ]
    },
    {
      "cell_type": "code",
      "metadata": {
        "id": "uc6N4UmedrU6",
        "colab": {
          "base_uri": "https://localhost:8080/"
        },
        "outputId": "52564947-fe42-4a24-d663-8702afffd41d"
      },
      "source": [
        "a = 10\n",
        "print('jika a = 10')\n",
        "def fungsi_while(angka):\n",
        "    while angka != 0:\n",
        "        print(f\"{angka}\")\n",
        "        if angka > 0:\n",
        "            angka -= 1\n",
        "        else:\n",
        "            angka += 1\n",
        "fungsi_while(a)\n",
        "\n",
        "a = -10\n",
        "print('jika a = -10')\n",
        "def fungsi_while(angka):\n",
        "    while angka != 0:\n",
        "        print(f\"{angka}\")\n",
        "        if angka > 0:\n",
        "            angka -= 1\n",
        "        else:\n",
        "            angka += 1\n",
        "fungsi_while(a)\n",
        "\n"
      ],
      "execution_count": 18,
      "outputs": [
        {
          "output_type": "stream",
          "name": "stdout",
          "text": [
            "jika a = 10\n",
            "10\n",
            "9\n",
            "8\n",
            "7\n",
            "6\n",
            "5\n",
            "4\n",
            "3\n",
            "2\n",
            "1\n",
            "jika a = -10\n",
            "-10\n",
            "-9\n",
            "-8\n",
            "-7\n",
            "-6\n",
            "-5\n",
            "-4\n",
            "-3\n",
            "-2\n",
            "-1\n"
          ]
        }
      ]
    },
    {
      "cell_type": "markdown",
      "metadata": {
        "id": "lKzngRrlsrMD"
      },
      "source": [
        "Expected Output:\n",
        "\n",
        "jika a = 10                           \n",
        "\n",
        "10                                   \n",
        "9                      \n",
        "8   \n",
        "7   \n",
        "6  \n",
        "5  \n",
        "4  \n",
        "3  \n",
        "2  \n",
        "1\n",
        "\n",
        "jika a = -10\n",
        "\n",
        "-10                                   \n",
        "-9                        \n",
        "-8  \n",
        "-7  \n",
        "-6  \n",
        "-5  \n",
        "-4  \n",
        "-3  \n",
        "-2  \n",
        "-1\n"
      ]
    },
    {
      "cell_type": "markdown",
      "metadata": {
        "id": "MhdhusMnhn8L"
      },
      "source": [
        "\n",
        "\n",
        "---\n",
        "\n",
        "\n",
        "\n",
        "---\n",
        "\n"
      ]
    },
    {
      "cell_type": "markdown",
      "metadata": {
        "id": "DnAUJ4TzgmOp"
      },
      "source": [
        "<h2>Soal 7: For Loop</h2>\n",
        "\n",
        "Lengkapi kode untuk menghasilkan suatu output yang diharapkan:\n",
        "\n",
        "\n",
        "\n",
        "\n",
        "\n",
        "*   Cari siswa mana saja yang memiliki nilai lebih dari sama dengan 80. Masukkan kedalam sebuah list. print hasilnya\n",
        "\n",
        "\n",
        "\n",
        "\n"
      ]
    },
    {
      "cell_type": "code",
      "metadata": {
        "id": "aeuMIX8_hGCW",
        "colab": {
          "base_uri": "https://localhost:8080/"
        },
        "outputId": "1d504e99-5c41-4cd7-8276-9c80c5b06640"
      },
      "source": [
        "data_siswa = [\n",
        "    {\n",
        "        \"nama\":\"Budi\",\n",
        "        \"nilai\": 90\n",
        "    },\n",
        "    {\n",
        "        \"nama\":\"Nina\",\n",
        "        \"nilai\": 78\n",
        "    },\n",
        "    {\n",
        "        \"nama\":\"Rudi\",\n",
        "        \"nilai\": 91\n",
        "    },\n",
        "    {\n",
        "        \"nama\":\"Olivia\",\n",
        "        \"nilai\": 76\n",
        "    },\n",
        "    {\n",
        "        \"nama\":\"Leo\",\n",
        "        \"nilai\": 80\n",
        "    },\n",
        "    {\n",
        "        \"nama\":\"Liam\",\n",
        "        \"nilai\": 67\n",
        "    },\n",
        "    {\n",
        "        \"nama\":\"Sheila\",\n",
        "        \"nilai\": 76\n",
        "    }\n",
        "]\n",
        "\n",
        "siswa_lulus = [siswa[\"nama\"] for siswa in data_siswa if siswa[\"nilai\"] >= 80]\n",
        "\n",
        "print(siswa_lulus)"
      ],
      "execution_count": 21,
      "outputs": [
        {
          "output_type": "stream",
          "name": "stdout",
          "text": [
            "['Budi', 'Rudi', 'Leo']\n"
          ]
        }
      ]
    },
    {
      "cell_type": "markdown",
      "metadata": {
        "id": "xIFJBG5PhL_5"
      },
      "source": [
        "Expected output:\n",
        "\n",
        "['Budi', 'Rudi', 'Leo']"
      ]
    },
    {
      "cell_type": "markdown",
      "metadata": {
        "id": "6qKCmZB0hqH9"
      },
      "source": [
        "\n",
        "\n",
        "---\n",
        "\n",
        "\n",
        "\n",
        "---\n",
        "\n"
      ]
    },
    {
      "cell_type": "markdown",
      "metadata": {
        "id": "IWg3Z_zZsrMG"
      },
      "source": [
        "<h2>Soal 8: For Loop Enumerate</h2>\n",
        "    \n",
        "Lengkapi kode untuk menghasilkan suatu output yang di harapkan:\n",
        "\n",
        "- Buatlah sebuah loop dengan mengiterasi sebuah objek list kemudian di kalikan dengan index dari list tersebut dan print hasilnya"
      ]
    },
    {
      "cell_type": "code",
      "metadata": {
        "id": "wvxcRiq2gYS9",
        "colab": {
          "base_uri": "https://localhost:8080/"
        },
        "outputId": "8a7f7c93-3c3f-4dfc-bb29-21cf7dd1fcae"
      },
      "source": [
        "obj_list = [1, 16, 11, 10, 5]\n",
        "\n",
        "\n",
        "for index, value in enumerate(obj_list):\n",
        "    result = value * index\n",
        "    print(f\"{result}\")\n"
      ],
      "execution_count": null,
      "outputs": [
        {
          "output_type": "stream",
          "name": "stdout",
          "text": [
            "0\n",
            "16\n",
            "22\n",
            "30\n",
            "20\n"
          ]
        }
      ]
    },
    {
      "cell_type": "markdown",
      "metadata": {
        "id": "OGawROjnsrMU"
      },
      "source": [
        "Expected Output:\n",
        "\n",
        "0\n",
        "\n",
        "16\n",
        "\n",
        "22\n",
        "\n",
        "30\n",
        "\n",
        "20\n"
      ]
    },
    {
      "cell_type": "markdown",
      "metadata": {
        "id": "BEaVi_Z5hror"
      },
      "source": [
        "\n",
        "\n",
        "---\n",
        "\n",
        "\n",
        "\n",
        "---\n",
        "\n"
      ]
    }
  ]
}