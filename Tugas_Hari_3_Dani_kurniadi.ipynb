{
  "nbformat": 4,
  "nbformat_minor": 0,
  "metadata": {
    "colab": {
      "provenance": []
    },
    "kernelspec": {
      "display_name": "Python 3",
      "language": "python",
      "name": "python3"
    },
    "language_info": {
      "codemirror_mode": {
        "name": "ipython",
        "version": 3
      },
      "file_extension": ".py",
      "mimetype": "text/x-python",
      "name": "python",
      "nbconvert_exporter": "python",
      "pygments_lexer": "ipython3",
      "version": "3.7.7"
    }
  },
  "cells": [
    {
      "cell_type": "markdown",
      "metadata": {
        "id": "I6jmLA-RYrt5"
      },
      "source": [
        "<h2>Soal 1: Helper Function</h2>\n",
        "\n",
        "Jawab Pertanyaan di bawah ini:\n",
        "\n",
        "Misalkan kamu ingin mengetahui tentang kegunaan fungsi 'len' di Python, maka fungsi apa yang bisa kamu gunakan untuk menolong kamu?"
      ]
    },
    {
      "cell_type": "code",
      "metadata": {
        "id": "VrvyQxGJYrt9",
        "colab": {
          "base_uri": "https://localhost:8080/"
        },
        "outputId": "0c764609-dad3-44a1-cf46-21675727fb8a"
      },
      "source": [
        "# lengkapi code ini\n",
        "print(help(len))\n"
      ],
      "execution_count": 1,
      "outputs": [
        {
          "output_type": "stream",
          "name": "stdout",
          "text": [
            "Help on built-in function len in module builtins:\n",
            "\n",
            "len(obj, /)\n",
            "    Return the number of items in a container.\n",
            "\n",
            "None\n"
          ]
        }
      ]
    },
    {
      "cell_type": "markdown",
      "metadata": {
        "id": "KrcuFTuAYruT"
      },
      "source": [
        "<h2>Soal 2: Built-in Function</h2>\n",
        "\n",
        "Jawab Pertanyaan di bawah ini:\n",
        "    \n",
        "Apa itu built-in Function?\n",
        "\n",
        "Sebutkan 3 built-in Function di pyhon!\n",
        "\n",
        "Berikan contoh masing2 1 cara penggunaan built-in function yang kamu sebutkan sebelumnya"
      ]
    },
    {
      "cell_type": "markdown",
      "metadata": {
        "id": "xro-58_CYruW"
      },
      "source": [
        "fungsi bawaan yang sudah disediakan oleh python tanpa perlu import library , contohnya len , sum dan max\n"
      ]
    },
    {
      "cell_type": "code",
      "metadata": {
        "id": "Xv7lHkgfYruY",
        "colab": {
          "base_uri": "https://localhost:8080/"
        },
        "outputId": "51e25a48-1f92-4fca-8edf-1b3f55c6c573"
      },
      "source": [
        "# Contoh penggunaan built in function\n",
        "\n",
        "#len\n",
        "club =['persib', 'persebaya' , 'madura united']\n",
        "print(len(club))\n",
        "\n",
        "#sum\n",
        "number=[10 , 11 , 12 , 13 , 15 , 17]\n",
        "print(sum(number))\n",
        "\n",
        "#max\n",
        "nilai_uas=[78 , 90 , 88 , 92 , 100 , 80]\n",
        "print(max(nilai_uas))\n"
      ],
      "execution_count": 17,
      "outputs": [
        {
          "output_type": "stream",
          "name": "stdout",
          "text": [
            "3\n",
            "78\n",
            "100\n"
          ]
        }
      ]
    },
    {
      "cell_type": "markdown",
      "metadata": {
        "id": "yhWXiPNDYrul"
      },
      "source": [
        "<h2>Soal 3: Method dan Function</h2>\n",
        "\n",
        "Jawab Pertanyaan di bawah ini:\n",
        "    \n",
        "- Apa perbedaan method dan function?"
      ]
    },
    {
      "cell_type": "markdown",
      "metadata": {
        "id": "rqpTJlgDYrun"
      },
      "source": [
        "fungsi itu blok kode mandiri yang dapat dipanggil untuk melakukan tugas tertentu dan biasanya didefinisikan secara global, misalnya `len()`. sedangkan method adalah fungsi yang terkait dengan objek atau kelas tertentu, digunakan untuk memanipulasi data dalam objek tersebut, dan dipanggil dengan sintaks `obj.method()`, Perbedaan utamanya adalah function berdiri sendiri, sedangkan method terikat pada objek atau kelas tertentu."
      ]
    },
    {
      "cell_type": "markdown",
      "metadata": {
        "id": "tUU1xgYBYrup"
      },
      "source": [
        "<h2>Soal 4: Menggunkan Method String</h2>\n",
        "\n",
        "Lengkapi kode untuk menghasilkan suatu output yang di harapkan"
      ]
    },
    {
      "cell_type": "code",
      "metadata": {
        "id": "037gauOGYrur",
        "colab": {
          "base_uri": "https://localhost:8080/"
        },
        "outputId": "fa81d18c-281a-4749-8f1a-3bfd24ee0f43"
      },
      "source": [
        "kalimat = \"ayo belajar data science\"\n",
        "\n",
        "# gunakan method untuk mengubah nilai kalimat menjadi uppercase semua kemudian tampilkan hasilnya\n",
        "print(kalimat.upper())\n",
        "\n",
        "# gunakan method untuk menghitung berapa huruf a di dalam kalimat\n",
        "print(kalimat.lower().count('a'))"
      ],
      "execution_count": 4,
      "outputs": [
        {
          "output_type": "stream",
          "name": "stdout",
          "text": [
            "AYO BELAJAR DATA SCIENCE\n",
            "5\n"
          ]
        }
      ]
    },
    {
      "cell_type": "markdown",
      "metadata": {
        "id": "fPTd4R5VYru5"
      },
      "source": [
        "Expected Output:\n",
        "\n",
        "AYO BELAJAR DATA SCIENCE\n",
        "\n",
        "5"
      ]
    },
    {
      "cell_type": "markdown",
      "metadata": {
        "id": "IPjp5vwDYrvL"
      },
      "source": [
        "<h2>Soal 5: Membuat Simple Function</h2>\n",
        "\n",
        "Buatlah suatu fungsi yang menerima satu input argumen berbentuk list dan mempunyai elemen bertipe numeric semua, dimana fungsi tersebut berguna untuk menghitung rata2 dari kumpulan elemen list tersebut. namai fungsi tersebut 'mean_list'"
      ]
    },
    {
      "cell_type": "code",
      "metadata": {
        "id": "5KZg_AJUF9sK",
        "colab": {
          "base_uri": "https://localhost:8080/"
        },
        "outputId": "d1835b9c-6410-463c-a7ca-1ec0d9b36e20"
      },
      "source": [
        "obj_list = [11.25, 18.0, 20.0, 10.75, 9.50, 13.45, 23.0, 7.0, 8.45, 2.50]\n",
        "def mean_list(inp_list):\n",
        "  if not inp_list:\n",
        "        return None\n",
        "  return sum(inp_list) / len(inp_list)\n",
        "\n",
        "print(mean_list(obj_list))"
      ],
      "execution_count": 9,
      "outputs": [
        {
          "output_type": "stream",
          "name": "stdout",
          "text": [
            "12.39\n"
          ]
        }
      ]
    },
    {
      "cell_type": "markdown",
      "metadata": {
        "id": "MVAvoHHgYrva"
      },
      "source": [
        "Expected Output:\n",
        "\n",
        "12.39"
      ]
    },
    {
      "cell_type": "markdown",
      "metadata": {
        "id": "A8jjpNC8Yrvc"
      },
      "source": [
        "<h2>Soal 6: Membuat Function dengan Multiple arguments</h2>\n",
        "\n",
        "Buatlah suatu fungsi untuk melakukan penggabungan antara dua list"
      ]
    },
    {
      "cell_type": "code",
      "metadata": {
        "id": "gMWsoMw7G4s4",
        "colab": {
          "base_uri": "https://localhost:8080/"
        },
        "outputId": "e772c9c3-9ac4-434d-c3a3-937cd8060c80"
      },
      "source": [
        "obj_list = [1, 2, 3, 4]\n",
        "obj_penambah = [5, 6, 7]\n",
        "\n",
        "def kali_list(inp_list1, inp_list2):\n",
        "  return inp_list1 + inp_list2\n",
        "\n",
        "\n",
        "print(kali_list(obj_list, obj_penambah))"
      ],
      "execution_count": 10,
      "outputs": [
        {
          "output_type": "stream",
          "name": "stdout",
          "text": [
            "[1, 2, 3, 4, 5, 6, 7]\n"
          ]
        }
      ]
    },
    {
      "cell_type": "markdown",
      "metadata": {
        "id": "RYhU921kYrvp"
      },
      "source": [
        "Expected Output:\n",
        "\n",
        "\n",
        "[1, 2, 3, 4, 5, 6, 7]"
      ]
    },
    {
      "cell_type": "markdown",
      "metadata": {
        "id": "n4vXAQs4G9_s"
      },
      "source": [
        "# Soal 7. Mapping Fungsi lambda\n",
        "\n",
        "Hitunglah jumlah bilangan genap dari sebuah objek list berikut menggunakan lambda function"
      ]
    },
    {
      "cell_type": "code",
      "metadata": {
        "id": "fKZSTDb9NdIZ",
        "colab": {
          "base_uri": "https://localhost:8080/"
        },
        "outputId": "d680d9cd-485c-45e9-a99c-ca432f529e43"
      },
      "source": [
        "obj_list = [i for i in range(1000)]\n",
        "hasil = len(list(filter(lambda x: x % 2 == 0, obj_list)))\n",
        "\n",
        "print(hasil)"
      ],
      "execution_count": 12,
      "outputs": [
        {
          "output_type": "stream",
          "name": "stdout",
          "text": [
            "500\n"
          ]
        }
      ]
    },
    {
      "cell_type": "markdown",
      "metadata": {
        "id": "vEj-AttRNWuZ"
      },
      "source": [
        "Expected output:\n",
        "\n",
        "500"
      ]
    }
  ]
}