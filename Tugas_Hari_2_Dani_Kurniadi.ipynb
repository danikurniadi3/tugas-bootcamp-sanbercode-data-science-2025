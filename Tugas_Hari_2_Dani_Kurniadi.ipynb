{
  "nbformat": 4,
  "nbformat_minor": 0,
  "metadata": {
    "colab": {
      "provenance": []
    },
    "kernelspec": {
      "display_name": "Python 3",
      "language": "python",
      "name": "python3"
    },
    "language_info": {
      "codemirror_mode": {
        "name": "ipython",
        "version": 3
      },
      "file_extension": ".py",
      "mimetype": "text/x-python",
      "name": "python",
      "nbconvert_exporter": "python",
      "pygments_lexer": "ipython3",
      "version": "3.8.8"
    }
  },
  "cells": [
    {
      "cell_type": "markdown",
      "metadata": {
        "id": "1O3NGQSKzf_A"
      },
      "source": [
        "# Data Structure"
      ]
    },
    {
      "cell_type": "markdown",
      "metadata": {
        "id": "m2VWq6g9szIv"
      },
      "source": [
        "<h2>Soal 1: Perbedaan Data Structure</h2>\n",
        "\n",
        "Jawab Pertanyaan di bawah ini:\n",
        "\n",
        "Jelaskan perbedaan dari List, Tuple, Set dan Dictionary!"
      ]
    },
    {
      "cell_type": "markdown",
      "metadata": {
        "id": "vfsQF2Ipxjhe"
      },
      "source": [
        "List adalah kumpulan data terurut dan dapat diubah serta bisa berisi data duplikat. Tuple ini sedikit mirip dengan List, bedanya data di tuple tidak dapat diubah. sedangkan set adalah kumpulan data tak terurut dan unik yang cocok untuk operasi perbandingan. Dictionary adalah kumpulan pasangan key dan value yang menyimpan data yang lebih kompleks."
      ]
    },
    {
      "cell_type": "markdown",
      "metadata": {
        "id": "CO_5tbts9Od3"
      },
      "source": [
        "\n",
        "\n",
        "---\n",
        "\n",
        "\n",
        "\n",
        "---\n",
        "\n"
      ]
    },
    {
      "cell_type": "markdown",
      "metadata": {
        "id": "-31NFEy_xprf"
      },
      "source": [
        "# List"
      ]
    },
    {
      "cell_type": "markdown",
      "metadata": {
        "id": "XD1fT351szI2"
      },
      "source": [
        "<h2>Soal 2: Akses List</h2>\n",
        "\n",
        "Lengkapi kode untuk menghasilkan suatu output yang di harapkan"
      ]
    },
    {
      "cell_type": "code",
      "metadata": {
        "id": "qXKteY88szI5",
        "colab": {
          "base_uri": "https://localhost:8080/"
        },
        "outputId": "3c15387b-d67d-415e-8f15-bdbf11e2bdd7"
      },
      "source": [
        "a = ['1', '13b', 'aa1', 1.32, 22.1, 2.34]\n",
        "\n",
        "print(a[1:5])\n",
        "# slicing list\n"
      ],
      "execution_count": 2,
      "outputs": [
        {
          "output_type": "stream",
          "name": "stdout",
          "text": [
            "['13b', 'aa1', 1.32, 22.1]\n"
          ]
        }
      ]
    },
    {
      "cell_type": "markdown",
      "metadata": {
        "id": "4Qp2wjmOszJJ"
      },
      "source": [
        "Expected Output :\n",
        "\n",
        "[ '13b', 'aa1', 1.32, 22.1 ]"
      ]
    },
    {
      "cell_type": "markdown",
      "metadata": {
        "id": "zKS3e_kTszJm"
      },
      "source": [
        "<h2>Soal 3: Akses Nested List</h2>\n",
        "\n",
        "Lengkapi kode untuk menghasilkan suatu output yang di harapkan"
      ]
    },
    {
      "cell_type": "code",
      "metadata": {
        "id": "IhFh_WCzszJo",
        "colab": {
          "base_uri": "https://localhost:8080/"
        },
        "outputId": "f9f5942e-9456-447c-8e1f-cb7ffda35aec"
      },
      "source": [
        "a = [\n",
        "    [5, 9, 8],\n",
        "    [0, 0, 6]\n",
        "    ]\n",
        "a[1]=[0,6]\n",
        "# subsetting list\n",
        "print(a[1])"
      ],
      "execution_count": 15,
      "outputs": [
        {
          "output_type": "stream",
          "name": "stdout",
          "text": [
            "[0, 6]\n"
          ]
        }
      ]
    },
    {
      "cell_type": "markdown",
      "metadata": {
        "id": "mk5EMa6pszJ2"
      },
      "source": [
        "Expected Output :\n",
        "\n",
        "\n",
        "[0, 6]"
      ]
    },
    {
      "cell_type": "markdown",
      "metadata": {
        "id": "cggENDN4szKX"
      },
      "source": [
        "<h2>Soal 4: List Manipulation</h2>\n",
        "\n",
        "Lengkapi kode untuk menghasilkan suatu output yang di harapkan"
      ]
    },
    {
      "cell_type": "code",
      "metadata": {
        "id": "o9_8JDPn8452",
        "colab": {
          "base_uri": "https://localhost:8080/"
        },
        "outputId": "35a029d6-da58-4b38-d269-aad85dfc2d38"
      },
      "source": [
        "a = [\n",
        "    [5, 9, 8],\n",
        "    [0, 0, 6]\n",
        "    ]\n",
        "a[1]=[11,0,6]\n",
        "# change list value\n",
        "\n",
        "\n",
        "\n",
        "print(a)"
      ],
      "execution_count": 14,
      "outputs": [
        {
          "output_type": "stream",
          "name": "stdout",
          "text": [
            "[[5, 9, 8], [11, 0, 6]]\n"
          ]
        }
      ]
    },
    {
      "cell_type": "markdown",
      "metadata": {
        "id": "iYHFRJW7szKl"
      },
      "source": [
        "Expected Output :\n",
        "\n",
        "[ [5, 9, 10], [11, 0, 6] ]"
      ]
    },
    {
      "cell_type": "markdown",
      "metadata": {
        "id": "dSTDqY9iszKn"
      },
      "source": [
        "<h2>Soal 5: Delete Element List</h2>\n",
        "\n",
        "Lengkapi kode untuk menghasilkan suatu output yang di harapkan"
      ]
    },
    {
      "cell_type": "code",
      "metadata": {
        "id": "JXCqRPUO8_qI",
        "colab": {
          "base_uri": "https://localhost:8080/"
        },
        "outputId": "e30ecd24-f17b-4e1a-9289-d2562dd3fcb3"
      },
      "source": [
        "areas = [\"hallway\", 11.25, \"kitchen\", 18.0,\n",
        "        \"chill zone\", 20.0, \"bedroom\", 10.75,\n",
        "         \"bathroom\", 10.50, \"poolhouse\", 24.5,\n",
        "         \"garage\", 15.45]\n",
        "\n",
        "# Hilangkan elemen yang bernilai \"bathroom\" dan 10.50 dalam satu statement code\n",
        "areas.remove(\"bathroom\")\n",
        "areas.remove(10.50)\n",
        "\n",
        "print(areas)"
      ],
      "execution_count": 27,
      "outputs": [
        {
          "output_type": "stream",
          "name": "stdout",
          "text": [
            "['hallway', 11.25, 'kitchen', 18.0, 'chill zone', 20.0, 'bedroom', 10.75, 'poolhouse', 24.5, 'garage', 15.45]\n"
          ]
        }
      ]
    },
    {
      "cell_type": "markdown",
      "metadata": {
        "id": "ZeF61jc_szK1"
      },
      "source": [
        "Expected Output:\n",
        "\n",
        "['hallway',\n",
        " 11.25,\n",
        " 'kitchen',\n",
        " 18.0,\n",
        " 'chill zone',\n",
        " 20.0,\n",
        " 'bedroom',\n",
        " 10.75,\n",
        " 'poolhouse',\n",
        " 24.5,\n",
        " 'garage',\n",
        " 15.45]\n",
        "\n"
      ]
    },
    {
      "cell_type": "markdown",
      "metadata": {
        "id": "onKmJ3XqY5FN"
      },
      "source": [
        "## Soal 6: List Comprehension\n",
        "\n",
        "Gunakan metode **list comprehension** untuk mencari anggota dari S yang habis di bagi 2, kemudian assign hasilnya dalam bentuk list ke dalam variabel T."
      ]
    },
    {
      "cell_type": "code",
      "metadata": {
        "id": "sUIB3iXK9H3K",
        "colab": {
          "base_uri": "https://localhost:8080/"
        },
        "outputId": "3ad7a2f9-b4b4-4eec-e031-bce15cc60da2"
      },
      "source": [
        "S = [0, 1, 4, 9, 16, 25, 36, 49, 64, 81]\n",
        "\n",
        "T = [i for i in S if i%2 == 0]\n",
        "\n",
        "print(T)"
      ],
      "execution_count": 33,
      "outputs": [
        {
          "output_type": "stream",
          "name": "stdout",
          "text": [
            "[0, 4, 16, 36, 64]\n"
          ]
        }
      ]
    },
    {
      "cell_type": "markdown",
      "metadata": {
        "id": "Jjn-28CDaShb"
      },
      "source": [
        "Expected Output:\n",
        "\n",
        "[0, 4, 16, 36, 64]"
      ]
    },
    {
      "cell_type": "markdown",
      "metadata": {
        "id": "C7ztBLG19LM6"
      },
      "source": [
        "\n",
        "\n",
        "---\n",
        "\n",
        "\n",
        "\n",
        "---\n",
        "\n"
      ]
    },
    {
      "cell_type": "markdown",
      "metadata": {
        "id": "yK3s_CB69Tx0"
      },
      "source": [
        "# Tuple"
      ]
    },
    {
      "cell_type": "markdown",
      "metadata": {
        "id": "vIvG32Rp9WvI"
      },
      "source": [
        "## Soal 7. Mengakses Tuple\n",
        "\n",
        "Gunakan cara sclicing untuk mengakses tuple sehingga mendapatkan hasil sesuai expected output"
      ]
    },
    {
      "cell_type": "code",
      "metadata": {
        "id": "XNsuiSLABsmQ",
        "colab": {
          "base_uri": "https://localhost:8080/"
        },
        "outputId": "4d88669e-367f-4cec-a3a3-86161d6938a3"
      },
      "source": [
        "tuple_1 = (1, 2, 6, 7, 8, 9, 10)\n",
        "\n",
        "#akses tuple\n",
        "\n",
        "print(tuple_1[2:5])"
      ],
      "execution_count": 36,
      "outputs": [
        {
          "output_type": "stream",
          "name": "stdout",
          "text": [
            "(6, 7, 8)\n"
          ]
        }
      ]
    },
    {
      "cell_type": "markdown",
      "metadata": {
        "id": "yJRgSBHKBvyD"
      },
      "source": [
        "Expected Outpout:\n",
        "\n",
        "\n",
        "(6, 7, 8)"
      ]
    },
    {
      "cell_type": "markdown",
      "metadata": {
        "id": "1oT6SOCmEuLA"
      },
      "source": [
        "\n",
        "\n",
        "---\n",
        "\n",
        "\n",
        "\n",
        "---\n",
        "\n"
      ]
    },
    {
      "cell_type": "markdown",
      "metadata": {
        "id": "gdBwjXz8zoMi"
      },
      "source": [
        "# Dictionary"
      ]
    },
    {
      "cell_type": "markdown",
      "metadata": {
        "id": "qjMKbE9D6qow"
      },
      "source": [
        "<h2>Soal 8: Menambahkan key-value baru ke Dictionary</h2>\n",
        "\n",
        "Lengkapi kode untuk menghasilkan suatu output yang di harapkan"
      ]
    },
    {
      "cell_type": "code",
      "metadata": {
        "id": "rU7Z5dzC6qox",
        "colab": {
          "base_uri": "https://localhost:8080/"
        },
        "outputId": "6b4c2c98-dc67-4d17-ba89-8ad00cb2875e"
      },
      "source": [
        "europe = {'spain':'madrid', 'france':'paris', 'germany':'berlin', 'norway':'oslo' }\n",
        "europe['italy']='roma'\n",
        "# tambahkan key itali ke objek dictionary dengan value roma\n",
        "print(europe)\n",
        "'italy' in europe\n",
        "\n",
        "# cek apakah itali ada di dalam objek dictionary\n"
      ],
      "execution_count": 42,
      "outputs": [
        {
          "output_type": "stream",
          "name": "stdout",
          "text": [
            "{'spain': 'madrid', 'france': 'paris', 'germany': 'berlin', 'norway': 'oslo', 'italy': 'roma'}\n"
          ]
        },
        {
          "output_type": "execute_result",
          "data": {
            "text/plain": [
              "True"
            ]
          },
          "metadata": {},
          "execution_count": 42
        }
      ]
    },
    {
      "cell_type": "markdown",
      "metadata": {
        "id": "ur84PUyz6qo1"
      },
      "source": [
        "Expected Output:\n",
        "    \n",
        "True"
      ]
    },
    {
      "cell_type": "markdown",
      "metadata": {
        "id": "bgilSLKl6qo2"
      },
      "source": [
        "<h2>Soal 9: Update dan Remove Dictinary</h2>\n",
        "    \n",
        "Lengkapi kode untuk menghasilkan suatu output yang di harapkan"
      ]
    },
    {
      "cell_type": "code",
      "metadata": {
        "id": "kglSlEvvFG15",
        "colab": {
          "base_uri": "https://localhost:8080/"
        },
        "outputId": "72112237-230c-4d99-9f47-1fd274a66cdb"
      },
      "source": [
        "europe = {'spain':'madrid', 'france':'paris', 'germany':'bonn',\n",
        "          'norway':'oslo', 'italy':'rome', 'poland':'warsaw',\n",
        "          'australia':'vienna' }\n",
        "\n",
        "# update nilai ibukota german ke berlin\n",
        "europe['germany'] ='berlin'\n",
        "# remove australia dari europa\n",
        "europe.pop('australia')\n",
        "\n",
        "\n",
        "print(europe)"
      ],
      "execution_count": 45,
      "outputs": [
        {
          "output_type": "stream",
          "name": "stdout",
          "text": [
            "{'spain': 'madrid', 'france': 'paris', 'germany': 'berlin', 'norway': 'oslo', 'italy': 'rome', 'poland': 'warsaw'}\n"
          ]
        }
      ]
    },
    {
      "cell_type": "markdown",
      "metadata": {
        "id": "VDpHuoXS6qo6"
      },
      "source": [
        "Expected Output:\n",
        "\n",
        "{'spain': 'madrid', 'france': 'paris', 'germany': 'berlin', 'norway': 'oslo', 'italy': 'rome', 'poland': 'warsaw'}"
      ]
    },
    {
      "cell_type": "markdown",
      "metadata": {
        "id": "FNWyId1S6qo7"
      },
      "source": [
        "<h2>Soal 10: Nested Dictionary</h2>\n",
        "    \n",
        "Lengkapi kode untuk menghasilkan suatu output yang di harapkan"
      ]
    },
    {
      "cell_type": "code",
      "metadata": {
        "id": "GZTie49zFTh5",
        "colab": {
          "base_uri": "https://localhost:8080/"
        },
        "outputId": "318cd692-ceee-4e52-c504-93f37545aadc"
      },
      "source": [
        "country = {\n",
        "           'spain': { 'capital':'madrid', 'population':46.77 },\n",
        "           'france': { 'capital':'paris', 'population':66.03 },\n",
        "           'germany': { 'capital':'berlin', 'population':80.62 },\n",
        "           'norway': { 'capital':'oslo', 'population':5.084 }\n",
        "         }\n",
        "\n",
        "# berapa populasi dari kota german?\n",
        "print(country['germany']['population'])\n",
        "\n",
        "\n",
        "\n",
        "# update data baru, yaitu negara indonesia dengan capital jakarta dan poulasi 250\n",
        "country['indonesia'] = {'capital': 'Jakarta', 'population': 250}\n",
        "\n",
        "\n",
        "print(country)"
      ],
      "execution_count": 46,
      "outputs": [
        {
          "output_type": "stream",
          "name": "stdout",
          "text": [
            "80.62\n",
            "{'spain': {'capital': 'madrid', 'population': 46.77}, 'france': {'capital': 'paris', 'population': 66.03}, 'germany': {'capital': 'berlin', 'population': 80.62}, 'norway': {'capital': 'oslo', 'population': 5.084}, 'indonesia': {'capital': 'Jakarta', 'population': 250}}\n"
          ]
        }
      ]
    },
    {
      "cell_type": "markdown",
      "metadata": {
        "id": "fKT0REFD6qo_"
      },
      "source": [
        "Expected Output:\n",
        "\n",
        "80.62\n",
        "\n",
        "{'spain': {'capital': 'madrid', 'population': 46.77}, 'france': {'capital': 'paris', 'population': 66.03}, 'germany': {'capital': 'berlin', 'population': 80.62}, 'norway': {'capital': 'oslo', 'population': 5.084}, 'indonesia': {'capital': 'jakarta', 'population': 250}}"
      ]
    },
    {
      "cell_type": "markdown",
      "metadata": {
        "id": "xefUN_T56qpA"
      },
      "source": [
        "<h2>Soal 11: Loop Dictionary</h2>\n",
        "    \n",
        "Lengkapi kode untuk menghasilkan suatu output yang di harapkan"
      ]
    },
    {
      "cell_type": "code",
      "metadata": {
        "id": "6--DAeB8Fjwo",
        "colab": {
          "base_uri": "https://localhost:8080/"
        },
        "outputId": "ad6b2a02-f15e-4c41-9099-3ed15c96a973"
      },
      "source": [
        "country = {\n",
        "           'spain': { 'capital':'madrid', 'population':46.77 },\n",
        "           'france': { 'capital':'paris', 'population':66.03 },\n",
        "           'germany': { 'capital':'berlin', 'population':80.62 },\n",
        "           'norway': { 'capital':'oslo', 'population':5.084 },\n",
        "           'indonesia' : {'capital':'jakarta', 'population':250}\n",
        "         }\n",
        "\n",
        "for key, values in country.items():\n",
        "  print(\"Ibukota \" + key + \" adalah \" + values['capital'])\n"
      ],
      "execution_count": 51,
      "outputs": [
        {
          "output_type": "stream",
          "name": "stdout",
          "text": [
            "Ibukota spain adalah madrid\n",
            "Ibukota france adalah paris\n",
            "Ibukota germany adalah berlin\n",
            "Ibukota norway adalah oslo\n",
            "Ibukota indonesia adalah jakarta\n"
          ]
        }
      ]
    },
    {
      "cell_type": "markdown",
      "metadata": {
        "id": "YjX6xAtj6qpE"
      },
      "source": [
        "Expected Output:\n",
        "    \n",
        "Ibukota spain adalah madrid\n",
        "\n",
        "Ibukota france adalah paris\n",
        "\n",
        "Ibukota germany adalah berlin\n",
        "\n",
        "Ibukota norway adalah oslo\n",
        "\n",
        "Ibukota indonesia adalah jakarta"
      ]
    },
    {
      "cell_type": "markdown",
      "metadata": {
        "id": "y2zgwVoWFrvN"
      },
      "source": [
        "\n",
        "\n",
        "---\n",
        "\n",
        "\n",
        "\n",
        "---\n",
        "\n"
      ]
    },
    {
      "cell_type": "markdown",
      "metadata": {
        "id": "WqSWJGhxFtLL"
      },
      "source": [
        "# Set"
      ]
    },
    {
      "cell_type": "markdown",
      "metadata": {
        "id": "hcGbe-6hFxQr"
      },
      "source": [
        "## Soal 12: Remove Duplicate using set\n",
        "\n",
        "\n",
        "Hilangkan nilai duplikat dari sebuah objek list dengan menggunakan cara set sehingga menjadi sebuah tipe set"
      ]
    },
    {
      "cell_type": "code",
      "metadata": {
        "id": "NNVA6tNqFsan",
        "colab": {
          "base_uri": "https://localhost:8080/"
        },
        "outputId": "d0d7e88f-5792-4482-9113-cd612efeba54"
      },
      "source": [
        "obj_list = [1, 2, 3, 4, 5, 5, 6, 7, 8, 9, 9, 10]\n",
        "\n",
        "#using set\n",
        "obj_set = set(obj_list)\n",
        "print(obj_set)\n",
        "\n"
      ],
      "execution_count": 53,
      "outputs": [
        {
          "output_type": "stream",
          "name": "stdout",
          "text": [
            "{1, 2, 3, 4, 5, 6, 7, 8, 9, 10}\n"
          ]
        }
      ]
    },
    {
      "cell_type": "markdown",
      "metadata": {
        "id": "mYiIvESyGeSM"
      },
      "source": [
        "Expected output:\n",
        "\n",
        "{1, 2, 3, 4, 5, 6, 7, 8, 9, 10}"
      ]
    },
    {
      "cell_type": "markdown",
      "metadata": {
        "id": "7yDz5di2HIR0"
      },
      "source": [
        "## Soal 13: Mengubah dan menghapus anggota set\n",
        "\n",
        "Ubahlah dan hapus anggota set sehingga mendapatkan hasil yang diinginkan\n"
      ]
    },
    {
      "cell_type": "code",
      "metadata": {
        "id": "ecDrSJFrN3E0",
        "colab": {
          "base_uri": "https://localhost:8080/"
        },
        "outputId": "fa27a4da-7a46-4a57-f710-de41fa1cfbe8"
      },
      "source": [
        "set_1 = {1, 2, 3, 4, 5}\n",
        "\n",
        "#tambahkan anggota set dengan nilai {6,7,8}\n",
        "set_1.update([6,7,8])\n",
        "#hapus nilai anggota set 8\n",
        "set_1.discard(8)\n",
        "\n",
        "print(set_1)\n",
        "\n"
      ],
      "execution_count": 56,
      "outputs": [
        {
          "output_type": "stream",
          "name": "stdout",
          "text": [
            "{1, 2, 3, 4, 5, 6, 7}\n"
          ]
        }
      ]
    },
    {
      "cell_type": "markdown",
      "metadata": {
        "id": "ivvRxwHgOibz"
      },
      "source": [
        "Expected output:\n",
        "\n",
        "{1, 2, 3, 4, 5, 6, 7}"
      ]
    },
    {
      "cell_type": "markdown",
      "metadata": {
        "id": "Zl8p-uBuO7Av"
      },
      "source": [
        "## Soal 14: Operasi pada Set\n",
        "\n",
        "Carilah irisan dari ke dua set dengan menggunakan metode intersection"
      ]
    },
    {
      "cell_type": "code",
      "metadata": {
        "colab": {
          "base_uri": "https://localhost:8080/"
        },
        "id": "PQLEqbUCOWPN",
        "outputId": "6321f6a7-fc17-4742-fd4f-a88e9ca27d02"
      },
      "source": [
        "set_2 = {6, 8, 9, 10, 24}\n",
        "set_3 = {6, 10, 8, 25, 13}\n",
        "\n",
        "print(set_2.intersection(set_3))\n",
        "#intersection set"
      ],
      "execution_count": 59,
      "outputs": [
        {
          "output_type": "stream",
          "name": "stdout",
          "text": [
            "{8, 10, 6}\n"
          ]
        }
      ]
    },
    {
      "cell_type": "markdown",
      "metadata": {
        "id": "5a2uwgZbPk6Z"
      },
      "source": [
        "Expected output:\n",
        "\n",
        "\n",
        "{6, 8, 10}"
      ]
    },
    {
      "cell_type": "markdown",
      "metadata": {
        "id": "txdh4OI0Pr6p"
      },
      "source": [
        "\n",
        "\n",
        "---\n",
        "\n",
        "\n",
        "\n",
        "---\n",
        "\n"
      ]
    }
  ]
}